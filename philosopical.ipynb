{
  "nbformat": 4,
  "nbformat_minor": 0,
  "metadata": {
    "colab": {
      "provenance": [],
      "gpuType": "T4",
      "authorship_tag": "ABX9TyPQ78beJ2pOgwLJAM1PfWK4",
      "include_colab_link": true
    },
    "kernelspec": {
      "name": "python3",
      "display_name": "Python 3"
    },
    "language_info": {
      "name": "python"
    },
    "accelerator": "GPU",
    "widgets": {
      "application/vnd.jupyter.widget-state+json": {
        "198050f9cbab4ad493c10634a3008fa9": {
          "model_module": "@jupyter-widgets/controls",
          "model_name": "HBoxModel",
          "model_module_version": "1.5.0",
          "state": {
            "_dom_classes": [],
            "_model_module": "@jupyter-widgets/controls",
            "_model_module_version": "1.5.0",
            "_model_name": "HBoxModel",
            "_view_count": null,
            "_view_module": "@jupyter-widgets/controls",
            "_view_module_version": "1.5.0",
            "_view_name": "HBoxView",
            "box_style": "",
            "children": [
              "IPY_MODEL_00050f632d51435aa030ea641307231e",
              "IPY_MODEL_648e316c67634c28b75ecf1a5e32418e",
              "IPY_MODEL_d7a4baa8d47f402db4b254ba3eca2257"
            ],
            "layout": "IPY_MODEL_3be99e9df2c74ecbbf4c1670d12244ac"
          }
        },
        "00050f632d51435aa030ea641307231e": {
          "model_module": "@jupyter-widgets/controls",
          "model_name": "HTMLModel",
          "model_module_version": "1.5.0",
          "state": {
            "_dom_classes": [],
            "_model_module": "@jupyter-widgets/controls",
            "_model_module_version": "1.5.0",
            "_model_name": "HTMLModel",
            "_view_count": null,
            "_view_module": "@jupyter-widgets/controls",
            "_view_module_version": "1.5.0",
            "_view_name": "HTMLView",
            "description": "",
            "description_tooltip": null,
            "layout": "IPY_MODEL_2e76078371204d278481aed43e7c5f51",
            "placeholder": "​",
            "style": "IPY_MODEL_6b958a2bc3dc47d68cc968f77b9dbc41",
            "value": "Downloading readme: 100%"
          }
        },
        "648e316c67634c28b75ecf1a5e32418e": {
          "model_module": "@jupyter-widgets/controls",
          "model_name": "FloatProgressModel",
          "model_module_version": "1.5.0",
          "state": {
            "_dom_classes": [],
            "_model_module": "@jupyter-widgets/controls",
            "_model_module_version": "1.5.0",
            "_model_name": "FloatProgressModel",
            "_view_count": null,
            "_view_module": "@jupyter-widgets/controls",
            "_view_module_version": "1.5.0",
            "_view_name": "ProgressView",
            "bar_style": "success",
            "description": "",
            "description_tooltip": null,
            "layout": "IPY_MODEL_aa42c32602044ef19bb7f2b619cf831b",
            "max": 574,
            "min": 0,
            "orientation": "horizontal",
            "style": "IPY_MODEL_229d43a8c806447083a97a19a958287e",
            "value": 574
          }
        },
        "d7a4baa8d47f402db4b254ba3eca2257": {
          "model_module": "@jupyter-widgets/controls",
          "model_name": "HTMLModel",
          "model_module_version": "1.5.0",
          "state": {
            "_dom_classes": [],
            "_model_module": "@jupyter-widgets/controls",
            "_model_module_version": "1.5.0",
            "_model_name": "HTMLModel",
            "_view_count": null,
            "_view_module": "@jupyter-widgets/controls",
            "_view_module_version": "1.5.0",
            "_view_name": "HTMLView",
            "description": "",
            "description_tooltip": null,
            "layout": "IPY_MODEL_acc7b810e67d4e67843a1d52205fead8",
            "placeholder": "​",
            "style": "IPY_MODEL_fa7faee560114df8bbc08af83b427c0b",
            "value": " 574/574 [00:00&lt;00:00, 32.7kB/s]"
          }
        },
        "3be99e9df2c74ecbbf4c1670d12244ac": {
          "model_module": "@jupyter-widgets/base",
          "model_name": "LayoutModel",
          "model_module_version": "1.2.0",
          "state": {
            "_model_module": "@jupyter-widgets/base",
            "_model_module_version": "1.2.0",
            "_model_name": "LayoutModel",
            "_view_count": null,
            "_view_module": "@jupyter-widgets/base",
            "_view_module_version": "1.2.0",
            "_view_name": "LayoutView",
            "align_content": null,
            "align_items": null,
            "align_self": null,
            "border": null,
            "bottom": null,
            "display": null,
            "flex": null,
            "flex_flow": null,
            "grid_area": null,
            "grid_auto_columns": null,
            "grid_auto_flow": null,
            "grid_auto_rows": null,
            "grid_column": null,
            "grid_gap": null,
            "grid_row": null,
            "grid_template_areas": null,
            "grid_template_columns": null,
            "grid_template_rows": null,
            "height": null,
            "justify_content": null,
            "justify_items": null,
            "left": null,
            "margin": null,
            "max_height": null,
            "max_width": null,
            "min_height": null,
            "min_width": null,
            "object_fit": null,
            "object_position": null,
            "order": null,
            "overflow": null,
            "overflow_x": null,
            "overflow_y": null,
            "padding": null,
            "right": null,
            "top": null,
            "visibility": null,
            "width": null
          }
        },
        "2e76078371204d278481aed43e7c5f51": {
          "model_module": "@jupyter-widgets/base",
          "model_name": "LayoutModel",
          "model_module_version": "1.2.0",
          "state": {
            "_model_module": "@jupyter-widgets/base",
            "_model_module_version": "1.2.0",
            "_model_name": "LayoutModel",
            "_view_count": null,
            "_view_module": "@jupyter-widgets/base",
            "_view_module_version": "1.2.0",
            "_view_name": "LayoutView",
            "align_content": null,
            "align_items": null,
            "align_self": null,
            "border": null,
            "bottom": null,
            "display": null,
            "flex": null,
            "flex_flow": null,
            "grid_area": null,
            "grid_auto_columns": null,
            "grid_auto_flow": null,
            "grid_auto_rows": null,
            "grid_column": null,
            "grid_gap": null,
            "grid_row": null,
            "grid_template_areas": null,
            "grid_template_columns": null,
            "grid_template_rows": null,
            "height": null,
            "justify_content": null,
            "justify_items": null,
            "left": null,
            "margin": null,
            "max_height": null,
            "max_width": null,
            "min_height": null,
            "min_width": null,
            "object_fit": null,
            "object_position": null,
            "order": null,
            "overflow": null,
            "overflow_x": null,
            "overflow_y": null,
            "padding": null,
            "right": null,
            "top": null,
            "visibility": null,
            "width": null
          }
        },
        "6b958a2bc3dc47d68cc968f77b9dbc41": {
          "model_module": "@jupyter-widgets/controls",
          "model_name": "DescriptionStyleModel",
          "model_module_version": "1.5.0",
          "state": {
            "_model_module": "@jupyter-widgets/controls",
            "_model_module_version": "1.5.0",
            "_model_name": "DescriptionStyleModel",
            "_view_count": null,
            "_view_module": "@jupyter-widgets/base",
            "_view_module_version": "1.2.0",
            "_view_name": "StyleView",
            "description_width": ""
          }
        },
        "aa42c32602044ef19bb7f2b619cf831b": {
          "model_module": "@jupyter-widgets/base",
          "model_name": "LayoutModel",
          "model_module_version": "1.2.0",
          "state": {
            "_model_module": "@jupyter-widgets/base",
            "_model_module_version": "1.2.0",
            "_model_name": "LayoutModel",
            "_view_count": null,
            "_view_module": "@jupyter-widgets/base",
            "_view_module_version": "1.2.0",
            "_view_name": "LayoutView",
            "align_content": null,
            "align_items": null,
            "align_self": null,
            "border": null,
            "bottom": null,
            "display": null,
            "flex": null,
            "flex_flow": null,
            "grid_area": null,
            "grid_auto_columns": null,
            "grid_auto_flow": null,
            "grid_auto_rows": null,
            "grid_column": null,
            "grid_gap": null,
            "grid_row": null,
            "grid_template_areas": null,
            "grid_template_columns": null,
            "grid_template_rows": null,
            "height": null,
            "justify_content": null,
            "justify_items": null,
            "left": null,
            "margin": null,
            "max_height": null,
            "max_width": null,
            "min_height": null,
            "min_width": null,
            "object_fit": null,
            "object_position": null,
            "order": null,
            "overflow": null,
            "overflow_x": null,
            "overflow_y": null,
            "padding": null,
            "right": null,
            "top": null,
            "visibility": null,
            "width": null
          }
        },
        "229d43a8c806447083a97a19a958287e": {
          "model_module": "@jupyter-widgets/controls",
          "model_name": "ProgressStyleModel",
          "model_module_version": "1.5.0",
          "state": {
            "_model_module": "@jupyter-widgets/controls",
            "_model_module_version": "1.5.0",
            "_model_name": "ProgressStyleModel",
            "_view_count": null,
            "_view_module": "@jupyter-widgets/base",
            "_view_module_version": "1.2.0",
            "_view_name": "StyleView",
            "bar_color": null,
            "description_width": ""
          }
        },
        "acc7b810e67d4e67843a1d52205fead8": {
          "model_module": "@jupyter-widgets/base",
          "model_name": "LayoutModel",
          "model_module_version": "1.2.0",
          "state": {
            "_model_module": "@jupyter-widgets/base",
            "_model_module_version": "1.2.0",
            "_model_name": "LayoutModel",
            "_view_count": null,
            "_view_module": "@jupyter-widgets/base",
            "_view_module_version": "1.2.0",
            "_view_name": "LayoutView",
            "align_content": null,
            "align_items": null,
            "align_self": null,
            "border": null,
            "bottom": null,
            "display": null,
            "flex": null,
            "flex_flow": null,
            "grid_area": null,
            "grid_auto_columns": null,
            "grid_auto_flow": null,
            "grid_auto_rows": null,
            "grid_column": null,
            "grid_gap": null,
            "grid_row": null,
            "grid_template_areas": null,
            "grid_template_columns": null,
            "grid_template_rows": null,
            "height": null,
            "justify_content": null,
            "justify_items": null,
            "left": null,
            "margin": null,
            "max_height": null,
            "max_width": null,
            "min_height": null,
            "min_width": null,
            "object_fit": null,
            "object_position": null,
            "order": null,
            "overflow": null,
            "overflow_x": null,
            "overflow_y": null,
            "padding": null,
            "right": null,
            "top": null,
            "visibility": null,
            "width": null
          }
        },
        "fa7faee560114df8bbc08af83b427c0b": {
          "model_module": "@jupyter-widgets/controls",
          "model_name": "DescriptionStyleModel",
          "model_module_version": "1.5.0",
          "state": {
            "_model_module": "@jupyter-widgets/controls",
            "_model_module_version": "1.5.0",
            "_model_name": "DescriptionStyleModel",
            "_view_count": null,
            "_view_module": "@jupyter-widgets/base",
            "_view_module_version": "1.2.0",
            "_view_name": "StyleView",
            "description_width": ""
          }
        },
        "cb8b924e686941d9bbdeb829ad7cf654": {
          "model_module": "@jupyter-widgets/controls",
          "model_name": "HBoxModel",
          "model_module_version": "1.5.0",
          "state": {
            "_dom_classes": [],
            "_model_module": "@jupyter-widgets/controls",
            "_model_module_version": "1.5.0",
            "_model_name": "HBoxModel",
            "_view_count": null,
            "_view_module": "@jupyter-widgets/controls",
            "_view_module_version": "1.5.0",
            "_view_name": "HBoxView",
            "box_style": "",
            "children": [
              "IPY_MODEL_255e631fe7dc40c48a583352ad6f01e5",
              "IPY_MODEL_db6d391a0d98477c821e2bfa7665a7ab",
              "IPY_MODEL_c498cb2b5d8d4f0f8c61e9d0af28b25d"
            ],
            "layout": "IPY_MODEL_226873be3e4b47e680cecfa9594eaf99"
          }
        },
        "255e631fe7dc40c48a583352ad6f01e5": {
          "model_module": "@jupyter-widgets/controls",
          "model_name": "HTMLModel",
          "model_module_version": "1.5.0",
          "state": {
            "_dom_classes": [],
            "_model_module": "@jupyter-widgets/controls",
            "_model_module_version": "1.5.0",
            "_model_name": "HTMLModel",
            "_view_count": null,
            "_view_module": "@jupyter-widgets/controls",
            "_view_module_version": "1.5.0",
            "_view_name": "HTMLView",
            "description": "",
            "description_tooltip": null,
            "layout": "IPY_MODEL_371c5a82475e4e6e88691e66172d36b5",
            "placeholder": "​",
            "style": "IPY_MODEL_1c54da11ea7d430b94290f76098a9cb5",
            "value": "Downloading data: 100%"
          }
        },
        "db6d391a0d98477c821e2bfa7665a7ab": {
          "model_module": "@jupyter-widgets/controls",
          "model_name": "FloatProgressModel",
          "model_module_version": "1.5.0",
          "state": {
            "_dom_classes": [],
            "_model_module": "@jupyter-widgets/controls",
            "_model_module_version": "1.5.0",
            "_model_name": "FloatProgressModel",
            "_view_count": null,
            "_view_module": "@jupyter-widgets/controls",
            "_view_module_version": "1.5.0",
            "_view_name": "ProgressView",
            "bar_style": "success",
            "description": "",
            "description_tooltip": null,
            "layout": "IPY_MODEL_6f83ea8a8e6a4943a1645b36d9c8f3e7",
            "max": 67554,
            "min": 0,
            "orientation": "horizontal",
            "style": "IPY_MODEL_84bacc05049743bab8628e4e518e4a79",
            "value": 67554
          }
        },
        "c498cb2b5d8d4f0f8c61e9d0af28b25d": {
          "model_module": "@jupyter-widgets/controls",
          "model_name": "HTMLModel",
          "model_module_version": "1.5.0",
          "state": {
            "_dom_classes": [],
            "_model_module": "@jupyter-widgets/controls",
            "_model_module_version": "1.5.0",
            "_model_name": "HTMLModel",
            "_view_count": null,
            "_view_module": "@jupyter-widgets/controls",
            "_view_module_version": "1.5.0",
            "_view_name": "HTMLView",
            "description": "",
            "description_tooltip": null,
            "layout": "IPY_MODEL_43bb9bdd23d74f869d26ef1613e4714d",
            "placeholder": "​",
            "style": "IPY_MODEL_aa2125c15d65447982458de70bc201bb",
            "value": " 67.6k/67.6k [00:00&lt;00:00, 235kB/s]"
          }
        },
        "226873be3e4b47e680cecfa9594eaf99": {
          "model_module": "@jupyter-widgets/base",
          "model_name": "LayoutModel",
          "model_module_version": "1.2.0",
          "state": {
            "_model_module": "@jupyter-widgets/base",
            "_model_module_version": "1.2.0",
            "_model_name": "LayoutModel",
            "_view_count": null,
            "_view_module": "@jupyter-widgets/base",
            "_view_module_version": "1.2.0",
            "_view_name": "LayoutView",
            "align_content": null,
            "align_items": null,
            "align_self": null,
            "border": null,
            "bottom": null,
            "display": null,
            "flex": null,
            "flex_flow": null,
            "grid_area": null,
            "grid_auto_columns": null,
            "grid_auto_flow": null,
            "grid_auto_rows": null,
            "grid_column": null,
            "grid_gap": null,
            "grid_row": null,
            "grid_template_areas": null,
            "grid_template_columns": null,
            "grid_template_rows": null,
            "height": null,
            "justify_content": null,
            "justify_items": null,
            "left": null,
            "margin": null,
            "max_height": null,
            "max_width": null,
            "min_height": null,
            "min_width": null,
            "object_fit": null,
            "object_position": null,
            "order": null,
            "overflow": null,
            "overflow_x": null,
            "overflow_y": null,
            "padding": null,
            "right": null,
            "top": null,
            "visibility": null,
            "width": null
          }
        },
        "371c5a82475e4e6e88691e66172d36b5": {
          "model_module": "@jupyter-widgets/base",
          "model_name": "LayoutModel",
          "model_module_version": "1.2.0",
          "state": {
            "_model_module": "@jupyter-widgets/base",
            "_model_module_version": "1.2.0",
            "_model_name": "LayoutModel",
            "_view_count": null,
            "_view_module": "@jupyter-widgets/base",
            "_view_module_version": "1.2.0",
            "_view_name": "LayoutView",
            "align_content": null,
            "align_items": null,
            "align_self": null,
            "border": null,
            "bottom": null,
            "display": null,
            "flex": null,
            "flex_flow": null,
            "grid_area": null,
            "grid_auto_columns": null,
            "grid_auto_flow": null,
            "grid_auto_rows": null,
            "grid_column": null,
            "grid_gap": null,
            "grid_row": null,
            "grid_template_areas": null,
            "grid_template_columns": null,
            "grid_template_rows": null,
            "height": null,
            "justify_content": null,
            "justify_items": null,
            "left": null,
            "margin": null,
            "max_height": null,
            "max_width": null,
            "min_height": null,
            "min_width": null,
            "object_fit": null,
            "object_position": null,
            "order": null,
            "overflow": null,
            "overflow_x": null,
            "overflow_y": null,
            "padding": null,
            "right": null,
            "top": null,
            "visibility": null,
            "width": null
          }
        },
        "1c54da11ea7d430b94290f76098a9cb5": {
          "model_module": "@jupyter-widgets/controls",
          "model_name": "DescriptionStyleModel",
          "model_module_version": "1.5.0",
          "state": {
            "_model_module": "@jupyter-widgets/controls",
            "_model_module_version": "1.5.0",
            "_model_name": "DescriptionStyleModel",
            "_view_count": null,
            "_view_module": "@jupyter-widgets/base",
            "_view_module_version": "1.2.0",
            "_view_name": "StyleView",
            "description_width": ""
          }
        },
        "6f83ea8a8e6a4943a1645b36d9c8f3e7": {
          "model_module": "@jupyter-widgets/base",
          "model_name": "LayoutModel",
          "model_module_version": "1.2.0",
          "state": {
            "_model_module": "@jupyter-widgets/base",
            "_model_module_version": "1.2.0",
            "_model_name": "LayoutModel",
            "_view_count": null,
            "_view_module": "@jupyter-widgets/base",
            "_view_module_version": "1.2.0",
            "_view_name": "LayoutView",
            "align_content": null,
            "align_items": null,
            "align_self": null,
            "border": null,
            "bottom": null,
            "display": null,
            "flex": null,
            "flex_flow": null,
            "grid_area": null,
            "grid_auto_columns": null,
            "grid_auto_flow": null,
            "grid_auto_rows": null,
            "grid_column": null,
            "grid_gap": null,
            "grid_row": null,
            "grid_template_areas": null,
            "grid_template_columns": null,
            "grid_template_rows": null,
            "height": null,
            "justify_content": null,
            "justify_items": null,
            "left": null,
            "margin": null,
            "max_height": null,
            "max_width": null,
            "min_height": null,
            "min_width": null,
            "object_fit": null,
            "object_position": null,
            "order": null,
            "overflow": null,
            "overflow_x": null,
            "overflow_y": null,
            "padding": null,
            "right": null,
            "top": null,
            "visibility": null,
            "width": null
          }
        },
        "84bacc05049743bab8628e4e518e4a79": {
          "model_module": "@jupyter-widgets/controls",
          "model_name": "ProgressStyleModel",
          "model_module_version": "1.5.0",
          "state": {
            "_model_module": "@jupyter-widgets/controls",
            "_model_module_version": "1.5.0",
            "_model_name": "ProgressStyleModel",
            "_view_count": null,
            "_view_module": "@jupyter-widgets/base",
            "_view_module_version": "1.2.0",
            "_view_name": "StyleView",
            "bar_color": null,
            "description_width": ""
          }
        },
        "43bb9bdd23d74f869d26ef1613e4714d": {
          "model_module": "@jupyter-widgets/base",
          "model_name": "LayoutModel",
          "model_module_version": "1.2.0",
          "state": {
            "_model_module": "@jupyter-widgets/base",
            "_model_module_version": "1.2.0",
            "_model_name": "LayoutModel",
            "_view_count": null,
            "_view_module": "@jupyter-widgets/base",
            "_view_module_version": "1.2.0",
            "_view_name": "LayoutView",
            "align_content": null,
            "align_items": null,
            "align_self": null,
            "border": null,
            "bottom": null,
            "display": null,
            "flex": null,
            "flex_flow": null,
            "grid_area": null,
            "grid_auto_columns": null,
            "grid_auto_flow": null,
            "grid_auto_rows": null,
            "grid_column": null,
            "grid_gap": null,
            "grid_row": null,
            "grid_template_areas": null,
            "grid_template_columns": null,
            "grid_template_rows": null,
            "height": null,
            "justify_content": null,
            "justify_items": null,
            "left": null,
            "margin": null,
            "max_height": null,
            "max_width": null,
            "min_height": null,
            "min_width": null,
            "object_fit": null,
            "object_position": null,
            "order": null,
            "overflow": null,
            "overflow_x": null,
            "overflow_y": null,
            "padding": null,
            "right": null,
            "top": null,
            "visibility": null,
            "width": null
          }
        },
        "aa2125c15d65447982458de70bc201bb": {
          "model_module": "@jupyter-widgets/controls",
          "model_name": "DescriptionStyleModel",
          "model_module_version": "1.5.0",
          "state": {
            "_model_module": "@jupyter-widgets/controls",
            "_model_module_version": "1.5.0",
            "_model_name": "DescriptionStyleModel",
            "_view_count": null,
            "_view_module": "@jupyter-widgets/base",
            "_view_module_version": "1.2.0",
            "_view_name": "StyleView",
            "description_width": ""
          }
        },
        "f07e91da2d534a38b8c3cc154e728198": {
          "model_module": "@jupyter-widgets/controls",
          "model_name": "HBoxModel",
          "model_module_version": "1.5.0",
          "state": {
            "_dom_classes": [],
            "_model_module": "@jupyter-widgets/controls",
            "_model_module_version": "1.5.0",
            "_model_name": "HBoxModel",
            "_view_count": null,
            "_view_module": "@jupyter-widgets/controls",
            "_view_module_version": "1.5.0",
            "_view_name": "HBoxView",
            "box_style": "",
            "children": [
              "IPY_MODEL_e57551b58a964325902a23815512e063",
              "IPY_MODEL_45e4654f4a804625b9455d5373da9203",
              "IPY_MODEL_a5478e0418984222ac0835823c2716dd"
            ],
            "layout": "IPY_MODEL_8cc30d735d194883b40f77341ae7dbb2"
          }
        },
        "e57551b58a964325902a23815512e063": {
          "model_module": "@jupyter-widgets/controls",
          "model_name": "HTMLModel",
          "model_module_version": "1.5.0",
          "state": {
            "_dom_classes": [],
            "_model_module": "@jupyter-widgets/controls",
            "_model_module_version": "1.5.0",
            "_model_name": "HTMLModel",
            "_view_count": null,
            "_view_module": "@jupyter-widgets/controls",
            "_view_module_version": "1.5.0",
            "_view_name": "HTMLView",
            "description": "",
            "description_tooltip": null,
            "layout": "IPY_MODEL_b364a71d14d444c9bb052951278c10d5",
            "placeholder": "​",
            "style": "IPY_MODEL_74aed57980f64bae8e02ad5ee618dfb8",
            "value": "Generating train split: "
          }
        },
        "45e4654f4a804625b9455d5373da9203": {
          "model_module": "@jupyter-widgets/controls",
          "model_name": "FloatProgressModel",
          "model_module_version": "1.5.0",
          "state": {
            "_dom_classes": [],
            "_model_module": "@jupyter-widgets/controls",
            "_model_module_version": "1.5.0",
            "_model_name": "FloatProgressModel",
            "_view_count": null,
            "_view_module": "@jupyter-widgets/controls",
            "_view_module_version": "1.5.0",
            "_view_name": "ProgressView",
            "bar_style": "success",
            "description": "",
            "description_tooltip": null,
            "layout": "IPY_MODEL_5055cd1f50ea43dca5fd2ca0ee3a3de2",
            "max": 1,
            "min": 0,
            "orientation": "horizontal",
            "style": "IPY_MODEL_8dc06ba5ae1746c49e6868435800b685",
            "value": 1
          }
        },
        "a5478e0418984222ac0835823c2716dd": {
          "model_module": "@jupyter-widgets/controls",
          "model_name": "HTMLModel",
          "model_module_version": "1.5.0",
          "state": {
            "_dom_classes": [],
            "_model_module": "@jupyter-widgets/controls",
            "_model_module_version": "1.5.0",
            "_model_name": "HTMLModel",
            "_view_count": null,
            "_view_module": "@jupyter-widgets/controls",
            "_view_module_version": "1.5.0",
            "_view_name": "HTMLView",
            "description": "",
            "description_tooltip": null,
            "layout": "IPY_MODEL_7bcd886d793542b39e1656b1e5429310",
            "placeholder": "​",
            "style": "IPY_MODEL_2331999369f042788b4d951cad0853ab",
            "value": " 450/0 [00:00&lt;00:00, 6923.25 examples/s]"
          }
        },
        "8cc30d735d194883b40f77341ae7dbb2": {
          "model_module": "@jupyter-widgets/base",
          "model_name": "LayoutModel",
          "model_module_version": "1.2.0",
          "state": {
            "_model_module": "@jupyter-widgets/base",
            "_model_module_version": "1.2.0",
            "_model_name": "LayoutModel",
            "_view_count": null,
            "_view_module": "@jupyter-widgets/base",
            "_view_module_version": "1.2.0",
            "_view_name": "LayoutView",
            "align_content": null,
            "align_items": null,
            "align_self": null,
            "border": null,
            "bottom": null,
            "display": null,
            "flex": null,
            "flex_flow": null,
            "grid_area": null,
            "grid_auto_columns": null,
            "grid_auto_flow": null,
            "grid_auto_rows": null,
            "grid_column": null,
            "grid_gap": null,
            "grid_row": null,
            "grid_template_areas": null,
            "grid_template_columns": null,
            "grid_template_rows": null,
            "height": null,
            "justify_content": null,
            "justify_items": null,
            "left": null,
            "margin": null,
            "max_height": null,
            "max_width": null,
            "min_height": null,
            "min_width": null,
            "object_fit": null,
            "object_position": null,
            "order": null,
            "overflow": null,
            "overflow_x": null,
            "overflow_y": null,
            "padding": null,
            "right": null,
            "top": null,
            "visibility": null,
            "width": null
          }
        },
        "b364a71d14d444c9bb052951278c10d5": {
          "model_module": "@jupyter-widgets/base",
          "model_name": "LayoutModel",
          "model_module_version": "1.2.0",
          "state": {
            "_model_module": "@jupyter-widgets/base",
            "_model_module_version": "1.2.0",
            "_model_name": "LayoutModel",
            "_view_count": null,
            "_view_module": "@jupyter-widgets/base",
            "_view_module_version": "1.2.0",
            "_view_name": "LayoutView",
            "align_content": null,
            "align_items": null,
            "align_self": null,
            "border": null,
            "bottom": null,
            "display": null,
            "flex": null,
            "flex_flow": null,
            "grid_area": null,
            "grid_auto_columns": null,
            "grid_auto_flow": null,
            "grid_auto_rows": null,
            "grid_column": null,
            "grid_gap": null,
            "grid_row": null,
            "grid_template_areas": null,
            "grid_template_columns": null,
            "grid_template_rows": null,
            "height": null,
            "justify_content": null,
            "justify_items": null,
            "left": null,
            "margin": null,
            "max_height": null,
            "max_width": null,
            "min_height": null,
            "min_width": null,
            "object_fit": null,
            "object_position": null,
            "order": null,
            "overflow": null,
            "overflow_x": null,
            "overflow_y": null,
            "padding": null,
            "right": null,
            "top": null,
            "visibility": null,
            "width": null
          }
        },
        "74aed57980f64bae8e02ad5ee618dfb8": {
          "model_module": "@jupyter-widgets/controls",
          "model_name": "DescriptionStyleModel",
          "model_module_version": "1.5.0",
          "state": {
            "_model_module": "@jupyter-widgets/controls",
            "_model_module_version": "1.5.0",
            "_model_name": "DescriptionStyleModel",
            "_view_count": null,
            "_view_module": "@jupyter-widgets/base",
            "_view_module_version": "1.2.0",
            "_view_name": "StyleView",
            "description_width": ""
          }
        },
        "5055cd1f50ea43dca5fd2ca0ee3a3de2": {
          "model_module": "@jupyter-widgets/base",
          "model_name": "LayoutModel",
          "model_module_version": "1.2.0",
          "state": {
            "_model_module": "@jupyter-widgets/base",
            "_model_module_version": "1.2.0",
            "_model_name": "LayoutModel",
            "_view_count": null,
            "_view_module": "@jupyter-widgets/base",
            "_view_module_version": "1.2.0",
            "_view_name": "LayoutView",
            "align_content": null,
            "align_items": null,
            "align_self": null,
            "border": null,
            "bottom": null,
            "display": null,
            "flex": null,
            "flex_flow": null,
            "grid_area": null,
            "grid_auto_columns": null,
            "grid_auto_flow": null,
            "grid_auto_rows": null,
            "grid_column": null,
            "grid_gap": null,
            "grid_row": null,
            "grid_template_areas": null,
            "grid_template_columns": null,
            "grid_template_rows": null,
            "height": null,
            "justify_content": null,
            "justify_items": null,
            "left": null,
            "margin": null,
            "max_height": null,
            "max_width": null,
            "min_height": null,
            "min_width": null,
            "object_fit": null,
            "object_position": null,
            "order": null,
            "overflow": null,
            "overflow_x": null,
            "overflow_y": null,
            "padding": null,
            "right": null,
            "top": null,
            "visibility": null,
            "width": "20px"
          }
        },
        "8dc06ba5ae1746c49e6868435800b685": {
          "model_module": "@jupyter-widgets/controls",
          "model_name": "ProgressStyleModel",
          "model_module_version": "1.5.0",
          "state": {
            "_model_module": "@jupyter-widgets/controls",
            "_model_module_version": "1.5.0",
            "_model_name": "ProgressStyleModel",
            "_view_count": null,
            "_view_module": "@jupyter-widgets/base",
            "_view_module_version": "1.2.0",
            "_view_name": "StyleView",
            "bar_color": null,
            "description_width": ""
          }
        },
        "7bcd886d793542b39e1656b1e5429310": {
          "model_module": "@jupyter-widgets/base",
          "model_name": "LayoutModel",
          "model_module_version": "1.2.0",
          "state": {
            "_model_module": "@jupyter-widgets/base",
            "_model_module_version": "1.2.0",
            "_model_name": "LayoutModel",
            "_view_count": null,
            "_view_module": "@jupyter-widgets/base",
            "_view_module_version": "1.2.0",
            "_view_name": "LayoutView",
            "align_content": null,
            "align_items": null,
            "align_self": null,
            "border": null,
            "bottom": null,
            "display": null,
            "flex": null,
            "flex_flow": null,
            "grid_area": null,
            "grid_auto_columns": null,
            "grid_auto_flow": null,
            "grid_auto_rows": null,
            "grid_column": null,
            "grid_gap": null,
            "grid_row": null,
            "grid_template_areas": null,
            "grid_template_columns": null,
            "grid_template_rows": null,
            "height": null,
            "justify_content": null,
            "justify_items": null,
            "left": null,
            "margin": null,
            "max_height": null,
            "max_width": null,
            "min_height": null,
            "min_width": null,
            "object_fit": null,
            "object_position": null,
            "order": null,
            "overflow": null,
            "overflow_x": null,
            "overflow_y": null,
            "padding": null,
            "right": null,
            "top": null,
            "visibility": null,
            "width": null
          }
        },
        "2331999369f042788b4d951cad0853ab": {
          "model_module": "@jupyter-widgets/controls",
          "model_name": "DescriptionStyleModel",
          "model_module_version": "1.5.0",
          "state": {
            "_model_module": "@jupyter-widgets/controls",
            "_model_module_version": "1.5.0",
            "_model_name": "DescriptionStyleModel",
            "_view_count": null,
            "_view_module": "@jupyter-widgets/base",
            "_view_module_version": "1.2.0",
            "_view_name": "StyleView",
            "description_width": ""
          }
        }
      }
    }
  },
  "cells": [
    {
      "cell_type": "markdown",
      "metadata": {
        "id": "view-in-github",
        "colab_type": "text"
      },
      "source": [
        "<a href=\"https://colab.research.google.com/github/Patsonu63/Philosophy-with-Vector-Embeddings-OpenAI-and-Astra-DB/blob/main/philosopical.ipynb\" target=\"_parent\"><img src=\"https://colab.research.google.com/assets/colab-badge.svg\" alt=\"Open In Colab\"/></a>"
      ]
    },
    {
      "cell_type": "code",
      "execution_count": 1,
      "metadata": {
        "colab": {
          "base_uri": "https://localhost:8080/"
        },
        "id": "hwTjJ53_NR2Q",
        "outputId": "d49a168f-b44b-4037-8ee2-2f846a55c7af"
      },
      "outputs": [
        {
          "output_type": "stream",
          "name": "stdout",
          "text": [
            "\u001b[2K     \u001b[90m━━━━━━━━━━━━━━━━━━━━━━━━━━━━━━━━━━━━━━━━\u001b[0m \u001b[32m124.0/124.0 kB\u001b[0m \u001b[31m2.2 MB/s\u001b[0m eta \u001b[36m0:00:00\u001b[0m\n",
            "\u001b[2K     \u001b[90m━━━━━━━━━━━━━━━━━━━━━━━━━━━━━━━━━━━━━━━━\u001b[0m \u001b[32m268.3/268.3 kB\u001b[0m \u001b[31m15.2 MB/s\u001b[0m eta \u001b[36m0:00:00\u001b[0m\n",
            "\u001b[2K     \u001b[90m━━━━━━━━━━━━━━━━━━━━━━━━━━━━━━━━━━━━━━━━\u001b[0m \u001b[32m510.5/510.5 kB\u001b[0m \u001b[31m34.6 MB/s\u001b[0m eta \u001b[36m0:00:00\u001b[0m\n",
            "\u001b[?25h  Preparing metadata (setup.py) ... \u001b[?25l\u001b[?25hdone\n",
            "\u001b[2K     \u001b[90m━━━━━━━━━━━━━━━━━━━━━━━━━━━━━━━━━━━━━━━━\u001b[0m \u001b[32m41.3/41.3 kB\u001b[0m \u001b[31m2.9 MB/s\u001b[0m eta \u001b[36m0:00:00\u001b[0m\n",
            "\u001b[2K     \u001b[90m━━━━━━━━━━━━━━━━━━━━━━━━━━━━━━━━━━━━━━━━\u001b[0m \u001b[32m75.6/75.6 kB\u001b[0m \u001b[31m2.7 MB/s\u001b[0m eta \u001b[36m0:00:00\u001b[0m\n",
            "\u001b[2K     \u001b[90m━━━━━━━━━━━━━━━━━━━━━━━━━━━━━━━━━━━━━━━━\u001b[0m \u001b[32m116.3/116.3 kB\u001b[0m \u001b[31m15.9 MB/s\u001b[0m eta \u001b[36m0:00:00\u001b[0m\n",
            "\u001b[2K     \u001b[90m━━━━━━━━━━━━━━━━━━━━━━━━━━━━━━━━━━━━━━━━\u001b[0m \u001b[32m194.1/194.1 kB\u001b[0m \u001b[31m16.1 MB/s\u001b[0m eta \u001b[36m0:00:00\u001b[0m\n",
            "\u001b[2K     \u001b[90m━━━━━━━━━━━━━━━━━━━━━━━━━━━━━━━━━━━━━━━━\u001b[0m \u001b[32m134.8/134.8 kB\u001b[0m \u001b[31m13.4 MB/s\u001b[0m eta \u001b[36m0:00:00\u001b[0m\n",
            "\u001b[2K     \u001b[90m━━━━━━━━━━━━━━━━━━━━━━━━━━━━━━━━━━━━━━━━\u001b[0m \u001b[32m18.9/18.9 MB\u001b[0m \u001b[31m27.0 MB/s\u001b[0m eta \u001b[36m0:00:00\u001b[0m\n",
            "\u001b[2K     \u001b[90m━━━━━━━━━━━━━━━━━━━━━━━━━━━━━━━━━━━━━━━━\u001b[0m \u001b[32m77.9/77.9 kB\u001b[0m \u001b[31m8.9 MB/s\u001b[0m eta \u001b[36m0:00:00\u001b[0m\n",
            "\u001b[2K     \u001b[90m━━━━━━━━━━━━━━━━━━━━━━━━━━━━━━━━━━━━━━━━\u001b[0m \u001b[32m58.3/58.3 kB\u001b[0m \u001b[31m6.2 MB/s\u001b[0m eta \u001b[36m0:00:00\u001b[0m\n",
            "\u001b[2K     \u001b[90m━━━━━━━━━━━━━━━━━━━━━━━━━━━━━━━━━━━━━━━━\u001b[0m \u001b[32m57.5/57.5 kB\u001b[0m \u001b[31m5.9 MB/s\u001b[0m eta \u001b[36m0:00:00\u001b[0m\n",
            "\u001b[?25h  Building wheel for bson (setup.py) ... \u001b[?25l\u001b[?25hdone\n"
          ]
        }
      ],
      "source": [
        "!pip install --quiet \"astrapy>=0.6.0\" \"openai>=1.0.0\" datasets"
      ]
    },
    {
      "cell_type": "code",
      "source": [
        "from getpass import getpass\n",
        "from collections import Counter\n",
        "\n",
        "from astrapy.db import AstraDB\n",
        "import openai\n",
        "from datasets import load_dataset"
      ],
      "metadata": {
        "id": "bETNQwp-NW8E"
      },
      "execution_count": 2,
      "outputs": []
    },
    {
      "cell_type": "code",
      "source": [
        "ASTRA_DB_API_ENDPOINT = input(\"Please enter your API Endpoint:\")\n",
        "ASTRA_DB_APPLICATION_TOKEN = getpass(\"Please enter your Token\")"
      ],
      "metadata": {
        "colab": {
          "base_uri": "https://localhost:8080/"
        },
        "id": "rOqQAyEENiPk",
        "outputId": "7fee751d-501c-49f4-d9d1-ef1fa4582479"
      },
      "execution_count": 3,
      "outputs": [
        {
          "name": "stdout",
          "output_type": "stream",
          "text": [
            "Please enter your API Endpoint:https://d1f068af-0053-4eae-87cc-853f6cb6da0d-us-east1.apps.astra.datastax.com\n",
            "Please enter your Token··········\n"
          ]
        }
      ]
    },
    {
      "cell_type": "code",
      "source": [
        "astra_db = AstraDB(\n",
        "    api_endpoint=ASTRA_DB_API_ENDPOINT,\n",
        "    token=ASTRA_DB_APPLICATION_TOKEN,\n",
        ")"
      ],
      "metadata": {
        "id": "Gc1DnJbYNol4"
      },
      "execution_count": 4,
      "outputs": []
    },
    {
      "cell_type": "code",
      "source": [],
      "metadata": {
        "id": "vekDvguVOED8"
      },
      "execution_count": null,
      "outputs": []
    },
    {
      "cell_type": "code",
      "execution_count": 5,
      "metadata": {
        "id": "8db837dc-cd49-41e2-8b5d-edb17ccc470e"
      },
      "outputs": [],
      "source": [
        "coll_name = \"philosophers_astra_db\"\n",
        "collection = astra_db.create_collection(coll_name, dimension=1536)"
      ]
    },
    {
      "cell_type": "code",
      "source": [
        "OPENAI_API_KEY = getpass(\"Please enter your OpenAI API Key: \")"
      ],
      "metadata": {
        "colab": {
          "base_uri": "https://localhost:8080/"
        },
        "id": "mdopmBFkOJOK",
        "outputId": "49eb2d88-af52-4ddf-8bee-11a99ff62353"
      },
      "execution_count": 6,
      "outputs": [
        {
          "name": "stdout",
          "output_type": "stream",
          "text": [
            "Please enter your OpenAI API Key: ··········\n"
          ]
        }
      ]
    },
    {
      "cell_type": "code",
      "source": [],
      "metadata": {
        "id": "LTmV4UG5ONhE"
      },
      "execution_count": null,
      "outputs": []
    },
    {
      "cell_type": "code",
      "execution_count": 7,
      "metadata": {
        "id": "6bf89454-9a55-4202-ab6b-ea15b2048f3d"
      },
      "outputs": [],
      "source": [
        "client = openai.OpenAI(api_key=OPENAI_API_KEY)\n",
        "embedding_model_name = \"text-embedding-3-small\"\n",
        "\n",
        "result = client.embeddings.create(\n",
        "    input=[\n",
        "        \"This is a sentence\",\n",
        "        \"A second sentence\"\n",
        "    ],\n",
        "    model=embedding_model_name,\n",
        ")"
      ]
    },
    {
      "cell_type": "code",
      "source": [
        "print(f\"len(result.data)              = {len(result.data)}\")\n",
        "print(f\"result.data[1].embedding      = {str(result.data[1].embedding)[:55]}...\")\n",
        "print(f\"len(result.data[1].embedding) = {len(result.data[1].embedding)}\")"
      ],
      "metadata": {
        "colab": {
          "base_uri": "https://localhost:8080/"
        },
        "id": "dSGFDBNDORw0",
        "outputId": "100b90f8-cf4d-4705-919d-ebcae5f72e2a"
      },
      "execution_count": 8,
      "outputs": [
        {
          "output_type": "stream",
          "name": "stdout",
          "text": [
            "len(result.data)              = 2\n",
            "result.data[1].embedding      = [0.009454815648496151, 0.0015082946047186852, -0.036191...\n",
            "len(result.data[1].embedding) = 1536\n"
          ]
        }
      ]
    },
    {
      "cell_type": "code",
      "source": [
        "philo_dataset = load_dataset(\"datastax/philosopher-quotes\")[\"train\"]"
      ],
      "metadata": {
        "colab": {
          "base_uri": "https://localhost:8080/",
          "height": 237,
          "referenced_widgets": [
            "198050f9cbab4ad493c10634a3008fa9",
            "00050f632d51435aa030ea641307231e",
            "648e316c67634c28b75ecf1a5e32418e",
            "d7a4baa8d47f402db4b254ba3eca2257",
            "3be99e9df2c74ecbbf4c1670d12244ac",
            "2e76078371204d278481aed43e7c5f51",
            "6b958a2bc3dc47d68cc968f77b9dbc41",
            "aa42c32602044ef19bb7f2b619cf831b",
            "229d43a8c806447083a97a19a958287e",
            "acc7b810e67d4e67843a1d52205fead8",
            "fa7faee560114df8bbc08af83b427c0b",
            "cb8b924e686941d9bbdeb829ad7cf654",
            "255e631fe7dc40c48a583352ad6f01e5",
            "db6d391a0d98477c821e2bfa7665a7ab",
            "c498cb2b5d8d4f0f8c61e9d0af28b25d",
            "226873be3e4b47e680cecfa9594eaf99",
            "371c5a82475e4e6e88691e66172d36b5",
            "1c54da11ea7d430b94290f76098a9cb5",
            "6f83ea8a8e6a4943a1645b36d9c8f3e7",
            "84bacc05049743bab8628e4e518e4a79",
            "43bb9bdd23d74f869d26ef1613e4714d",
            "aa2125c15d65447982458de70bc201bb",
            "f07e91da2d534a38b8c3cc154e728198",
            "e57551b58a964325902a23815512e063",
            "45e4654f4a804625b9455d5373da9203",
            "a5478e0418984222ac0835823c2716dd",
            "8cc30d735d194883b40f77341ae7dbb2",
            "b364a71d14d444c9bb052951278c10d5",
            "74aed57980f64bae8e02ad5ee618dfb8",
            "5055cd1f50ea43dca5fd2ca0ee3a3de2",
            "8dc06ba5ae1746c49e6868435800b685",
            "7bcd886d793542b39e1656b1e5429310",
            "2331999369f042788b4d951cad0853ab"
          ]
        },
        "id": "zKcT5IzlOWbX",
        "outputId": "88ab4a2e-2b72-42f2-f162-a5f7fd0cfd33"
      },
      "execution_count": 9,
      "outputs": [
        {
          "output_type": "stream",
          "name": "stderr",
          "text": [
            "/usr/local/lib/python3.10/dist-packages/huggingface_hub/utils/_token.py:88: UserWarning: \n",
            "The secret `HF_TOKEN` does not exist in your Colab secrets.\n",
            "To authenticate with the Hugging Face Hub, create a token in your settings tab (https://huggingface.co/settings/tokens), set it as secret in your Google Colab and restart your session.\n",
            "You will be able to reuse this secret in all of your notebooks.\n",
            "Please note that authentication is recommended but still optional to access public models or datasets.\n",
            "  warnings.warn(\n"
          ]
        },
        {
          "output_type": "display_data",
          "data": {
            "text/plain": [
              "Downloading readme:   0%|          | 0.00/574 [00:00<?, ?B/s]"
            ],
            "application/vnd.jupyter.widget-view+json": {
              "version_major": 2,
              "version_minor": 0,
              "model_id": "198050f9cbab4ad493c10634a3008fa9"
            }
          },
          "metadata": {}
        },
        {
          "output_type": "display_data",
          "data": {
            "text/plain": [
              "Downloading data:   0%|          | 0.00/67.6k [00:00<?, ?B/s]"
            ],
            "application/vnd.jupyter.widget-view+json": {
              "version_major": 2,
              "version_minor": 0,
              "model_id": "cb8b924e686941d9bbdeb829ad7cf654"
            }
          },
          "metadata": {}
        },
        {
          "output_type": "display_data",
          "data": {
            "text/plain": [
              "Generating train split: 0 examples [00:00, ? examples/s]"
            ],
            "application/vnd.jupyter.widget-view+json": {
              "version_major": 2,
              "version_minor": 0,
              "model_id": "f07e91da2d534a38b8c3cc154e728198"
            }
          },
          "metadata": {}
        }
      ]
    },
    {
      "cell_type": "code",
      "source": [
        "print(\"An example entry:\")\n",
        "print(philo_dataset[16])"
      ],
      "metadata": {
        "colab": {
          "base_uri": "https://localhost:8080/"
        },
        "id": "JO96QlcDOZvq",
        "outputId": "6e9f65ac-e7c1-406b-ef25-b82716fac24e"
      },
      "execution_count": 10,
      "outputs": [
        {
          "output_type": "stream",
          "name": "stdout",
          "text": [
            "An example entry:\n",
            "{'author': 'aristotle', 'quote': 'Love well, be loved and do something of value.', 'tags': 'love;ethics'}\n"
          ]
        }
      ]
    },
    {
      "cell_type": "code",
      "source": [
        "author_count = Counter(entry[\"author\"] for entry in philo_dataset)\n",
        "print(f\"Total: {len(philo_dataset)} quotes. By author:\")\n",
        "for author, count in author_count.most_common():\n",
        "    print(f\"    {author:<20}: {count} quotes\")"
      ],
      "metadata": {
        "colab": {
          "base_uri": "https://localhost:8080/"
        },
        "id": "EL96IXioOgDB",
        "outputId": "154c8111-470c-4513-97b5-cd6e29b9b8d7"
      },
      "execution_count": 11,
      "outputs": [
        {
          "output_type": "stream",
          "name": "stdout",
          "text": [
            "Total: 450 quotes. By author:\n",
            "    aristotle           : 50 quotes\n",
            "    schopenhauer        : 50 quotes\n",
            "    spinoza             : 50 quotes\n",
            "    hegel               : 50 quotes\n",
            "    freud               : 50 quotes\n",
            "    nietzsche           : 50 quotes\n",
            "    sartre              : 50 quotes\n",
            "    plato               : 50 quotes\n",
            "    kant                : 50 quotes\n"
          ]
        }
      ]
    },
    {
      "cell_type": "code",
      "source": [],
      "metadata": {
        "id": "VGNW3zQrOivi"
      },
      "execution_count": null,
      "outputs": []
    },
    {
      "cell_type": "code",
      "execution_count": 12,
      "metadata": {
        "id": "6ab84ccb-3363-4bdc-9484-0d68c25a58ff",
        "outputId": "c2ce8060-120a-45d3-8ca6-28c6cce42f29",
        "colab": {
          "base_uri": "https://localhost:8080/"
        }
      },
      "outputs": [
        {
          "output_type": "stream",
          "name": "stdout",
          "text": [
            "Starting to store entries: [20][20][20][20][20][20][20][20][20][20][20][20][20][20][20][20][20][20][20][20][20][20][10]\n",
            "Finished storing entries.\n"
          ]
        }
      ],
      "source": [
        "BATCH_SIZE = 20\n",
        "\n",
        "num_batches = ((len(philo_dataset) + BATCH_SIZE - 1) // BATCH_SIZE)\n",
        "\n",
        "quotes_list = philo_dataset[\"quote\"]\n",
        "authors_list = philo_dataset[\"author\"]\n",
        "tags_list = philo_dataset[\"tags\"]\n",
        "\n",
        "print(\"Starting to store entries: \", end=\"\")\n",
        "for batch_i in range(num_batches):\n",
        "    b_start = batch_i * BATCH_SIZE\n",
        "    b_end = (batch_i + 1) * BATCH_SIZE\n",
        "    # compute the embedding vectors for this batch\n",
        "    b_emb_results = client.embeddings.create(\n",
        "        input=quotes_list[b_start : b_end],\n",
        "        model=embedding_model_name,\n",
        "    )\n",
        "    # prepare the documents for insertion\n",
        "    b_docs = []\n",
        "    for entry_idx, emb_result in zip(range(b_start, b_end), b_emb_results.data):\n",
        "        if tags_list[entry_idx]:\n",
        "            tags = {\n",
        "                tag: True\n",
        "                for tag in tags_list[entry_idx].split(\";\")\n",
        "            }\n",
        "        else:\n",
        "            tags = {}\n",
        "        b_docs.append({\n",
        "            \"quote\": quotes_list[entry_idx],\n",
        "            \"$vector\": emb_result.embedding,\n",
        "            \"author\": authors_list[entry_idx],\n",
        "            \"tags\": tags,\n",
        "        })\n",
        "    # write to the vector collection\n",
        "    collection.insert_many(b_docs)\n",
        "    print(f\"[{len(b_docs)}]\", end=\"\")\n",
        "\n",
        "print(\"\\nFinished storing entries.\")"
      ]
    },
    {
      "cell_type": "code",
      "source": [],
      "metadata": {
        "id": "GLdkPl7aOnp3"
      },
      "execution_count": null,
      "outputs": []
    },
    {
      "cell_type": "code",
      "execution_count": 13,
      "metadata": {
        "id": "d6fcf182-3ab7-4d28-9472-dce35cc38182"
      },
      "outputs": [],
      "source": [
        "def find_quote_and_author(query_quote, n, author=None, tags=None):\n",
        "    query_vector = client.embeddings.create(\n",
        "        input=[query_quote],\n",
        "        model=embedding_model_name,\n",
        "    ).data[0].embedding\n",
        "    filter_clause = {}\n",
        "    if author:\n",
        "        filter_clause[\"author\"] = author\n",
        "    if tags:\n",
        "        filter_clause[\"tags\"] = {}\n",
        "        for tag in tags:\n",
        "            filter_clause[\"tags\"][tag] = True\n",
        "    #\n",
        "    results = collection.vector_find(\n",
        "        query_vector,\n",
        "        limit=n,\n",
        "        filter=filter_clause,\n",
        "        fields=[\"quote\", \"author\"]\n",
        "    )\n",
        "    return [\n",
        "        (result[\"quote\"], result[\"author\"])\n",
        "        for result in results\n",
        "    ]"
      ]
    },
    {
      "cell_type": "code",
      "source": [
        "find_quote_and_author(\"We struggle all our life for nothing\", 3)"
      ],
      "metadata": {
        "colab": {
          "base_uri": "https://localhost:8080/"
        },
        "id": "cR2xGZJyQyWW",
        "outputId": "a3c84232-de6f-4c7a-cc78-7df6fd0bc5aa"
      },
      "execution_count": 14,
      "outputs": [
        {
          "output_type": "execute_result",
          "data": {
            "text/plain": [
              "[('Life to the great majority is only a constant struggle for mere existence, with the certainty of losing it at last.',\n",
              "  'schopenhauer'),\n",
              " ('To endure life remains, when all is said, the first duty of all living being Illusion can have no value if it makes this more difficult for us.',\n",
              "  'freud'),\n",
              " ('To live is to suffer, to survive is to find some meaning in the suffering.',\n",
              "  'nietzsche')]"
            ]
          },
          "metadata": {},
          "execution_count": 14
        }
      ]
    },
    {
      "cell_type": "code",
      "source": [
        "find_quote_and_author(\"We struggle all our life for nothing\", 2, author=\"nietzsche\")"
      ],
      "metadata": {
        "colab": {
          "base_uri": "https://localhost:8080/"
        },
        "id": "rdyfeMs9QzCW",
        "outputId": "3e66aef4-36a7-4a88-c917-085711e28c40"
      },
      "execution_count": 15,
      "outputs": [
        {
          "output_type": "execute_result",
          "data": {
            "text/plain": [
              "[('To live is to suffer, to survive is to find some meaning in the suffering.',\n",
              "  'nietzsche'),\n",
              " ('What makes us heroic?--Confronting simultaneously our supreme suffering and our supreme hope.',\n",
              "  'nietzsche')]"
            ]
          },
          "metadata": {},
          "execution_count": 15
        }
      ]
    },
    {
      "cell_type": "code",
      "source": [
        "find_quote_and_author(\"We struggle all our life for nothing\", 2, tags=[\"politics\"])"
      ],
      "metadata": {
        "colab": {
          "base_uri": "https://localhost:8080/"
        },
        "id": "lnU_STf1Q1Zf",
        "outputId": "c8348283-bd87-41d7-d878-8c89bc4fe7c6"
      },
      "execution_count": 16,
      "outputs": [
        {
          "output_type": "execute_result",
          "data": {
            "text/plain": [
              "[('He who seeks equality between unequals seeks an absurdity.', 'spinoza'),\n",
              " ('One... gets an impression that civilization is something which was imposed on a resisting majority by a minority which understood how to obtain possession of the means to power and coercion. It is, of course, natural to assume that these difficulties are not inherent in the nature of civilization itself but are determined by the imperfections of the cultural forms which have so far been developed.',\n",
              "  'freud')]"
            ]
          },
          "metadata": {},
          "execution_count": 16
        }
      ]
    },
    {
      "cell_type": "code",
      "source": [],
      "metadata": {
        "id": "RUmxE7xsQ4il"
      },
      "execution_count": null,
      "outputs": []
    },
    {
      "cell_type": "code",
      "execution_count": 25,
      "metadata": {
        "id": "b9b43721-a3b0-4ac4-b730-7a6aeec52e70",
        "outputId": "1595b751-9af4-4fc6-dcc6-0bb406cd88e7",
        "colab": {
          "base_uri": "https://localhost:8080/"
        }
      },
      "outputs": [
        {
          "output_type": "stream",
          "name": "stdout",
          "text": [
            "2 quotes within the threshold:\n",
            "    0. [similarity=0.770] \"Life to the great majority is only a constant struggle for mere existe...\"\n",
            "    1. [similarity=0.729] \"To endure life remains, when all is said, the first duty of all living...\"\n"
          ]
        }
      ],
      "source": [
        "#quote = \"Animals are our equals.\"\n",
        "# quote = \"Be good.\"\n",
        "quote = \"We struggle all our life for nothing\"\n",
        "\n",
        "metric_threshold = 0.7\n",
        "\n",
        "quote_vector = client.embeddings.create(\n",
        "    input=[quote],\n",
        "    model=embedding_model_name,\n",
        ").data[0].embedding\n",
        "\n",
        "results_full = collection.vector_find(\n",
        "    quote_vector,\n",
        "    limit=2,\n",
        "    fields=[\"quote\"]\n",
        ")\n",
        "results = [res for res in results_full if res[\"$similarity\"] >= metric_threshold]\n",
        "\n",
        "print(f\"{len(results)} quotes within the threshold:\")\n",
        "for idx, result in enumerate(results):\n",
        "    print(f\"    {idx}. [similarity={result['$similarity']:.3f}] \\\"{result['quote'][:70]}...\\\"\")"
      ]
    },
    {
      "cell_type": "code",
      "source": [
        "completion_model_name = \"gpt-3.5-turbo\"\n",
        "\n",
        "generation_prompt_template = \"\"\"\"Generate a single short philosophical quote on the given topic,\n",
        "similar in spirit and form to the provided actual example quotes.\n",
        "Do not exceed 20-30 words in your quote.\n",
        "\n",
        "REFERENCE TOPIC: \"{topic}\"\n",
        "\n",
        "ACTUAL EXAMPLES:\n",
        "{examples}\n",
        "\"\"\""
      ],
      "metadata": {
        "id": "HzBFcMniRGrR"
      },
      "execution_count": 26,
      "outputs": []
    },
    {
      "cell_type": "code",
      "source": [],
      "metadata": {
        "id": "44KWFlp0RlQF"
      },
      "execution_count": null,
      "outputs": []
    },
    {
      "cell_type": "code",
      "execution_count": 27,
      "metadata": {
        "id": "397e6ebd-b30e-413b-be63-81a62947a7b8"
      },
      "outputs": [],
      "source": [
        "def generate_quote(topic, n=2, author=None, tags=None):\n",
        "    quotes = find_quote_and_author(query_quote=topic, n=n, author=author, tags=tags)\n",
        "    if quotes:\n",
        "        prompt = generation_prompt_template.format(\n",
        "            topic=topic,\n",
        "            examples=\"\\n\".join(f\"  - {quote[0]}\" for quote in quotes),\n",
        "        )\n",
        "        # a little logging:\n",
        "        print(\"** quotes found:\")\n",
        "        for q, a in quotes:\n",
        "            print(f\"**    - {q} ({a})\")\n",
        "        print(\"** end of logging\")\n",
        "        #\n",
        "        response = client.chat.completions.create(\n",
        "            model=completion_model_name,\n",
        "            messages=[{\"role\": \"user\", \"content\": prompt}],\n",
        "            temperature=0.7,\n",
        "            max_tokens=320,\n",
        "        )\n",
        "        return response.choices[0].message.content.replace('\"', '').strip()\n",
        "    else:\n",
        "        print(\"** no quotes found.\")\n",
        "        return None"
      ]
    },
    {
      "cell_type": "code",
      "source": [
        "q_topic = generate_quote(\"politics and virtue\")\n",
        "print(\"\\nA new generated quote:\")\n",
        "print(q_topic)"
      ],
      "metadata": {
        "colab": {
          "base_uri": "https://localhost:8080/"
        },
        "id": "xBzZTwHkRouF",
        "outputId": "10104d33-c320-40d2-a875-87e893d435c7"
      },
      "execution_count": 28,
      "outputs": [
        {
          "output_type": "stream",
          "name": "stdout",
          "text": [
            "** quotes found:\n",
            "**    - Our moral virtues benefit mainly other people; intellectual virtues, on the other hand, benefit primarily ourselves; therefore the former make us universally popular, the latter unpopular. (schopenhauer)\n",
            "**    - Happiness is the reward of virtue. (aristotle)\n",
            "** end of logging\n",
            "\n",
            "A new generated quote:\n",
            "Virtue in politics is the compass that guides us towards a just society.\n"
          ]
        }
      ]
    },
    {
      "cell_type": "code",
      "source": [
        "q_topic = generate_quote(\"animals\", author=\"schopenhauer\")\n",
        "print(\"\\nA new generated quote:\")\n",
        "print(q_topic)"
      ],
      "metadata": {
        "colab": {
          "base_uri": "https://localhost:8080/"
        },
        "id": "-KbUcqH7RtTq",
        "outputId": "b23cf2e3-d2eb-4ef3-a74d-16fa8adc8582"
      },
      "execution_count": 29,
      "outputs": [
        {
          "output_type": "stream",
          "name": "stdout",
          "text": [
            "** quotes found:\n",
            "**    - The assumption that animals are without rights, and the illusion that our treatment of them has no moral significance, is a positively outrageous example of Western crudity and barbarity. Universal compassion is the only guarantee of morality. (schopenhauer)\n",
            "**    - Because Christian morality leaves animals out of account, they are at once outlawed in philosophical morals; they are mere 'things,' mere means to any ends whatsoever. They can therefore be used for vivisection, hunting, coursing, bullfights, and horse racing, and can be whipped to death as they struggle along with heavy carts of stone. Shame on such a morality that is worthy of pariahs, and that fails to recognize the eternal essence that exists in every living thing, and shines forth with inscrutable significance from all eyes that see the sun! (schopenhauer)\n",
            "** end of logging\n",
            "\n",
            "A new generated quote:\n",
            "Compassion towards animals reflects our true humanity, for their spirits mirror the eternal essence within every living being.\n"
          ]
        }
      ]
    },
    {
      "cell_type": "code",
      "source": [
        "astra_db.delete_collection(coll_name)"
      ],
      "metadata": {
        "colab": {
          "base_uri": "https://localhost:8080/"
        },
        "id": "AWUeJKZYRzox",
        "outputId": "f5d05050-16c9-434d-c1d4-c28c71eeed90"
      },
      "execution_count": 30,
      "outputs": [
        {
          "output_type": "execute_result",
          "data": {
            "text/plain": [
              "{'status': {'ok': 1}}"
            ]
          },
          "metadata": {},
          "execution_count": 30
        }
      ]
    },
    {
      "cell_type": "code",
      "source": [],
      "metadata": {
        "id": "cGGRLUxeR2_O"
      },
      "execution_count": null,
      "outputs": []
    }
  ]
}